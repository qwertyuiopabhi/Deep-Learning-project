{
 "cells": [
  {
   "cell_type": "code",
   "execution_count": 1,
   "id": "e2fe3146-2770-4251-a5ac-1e608c3aa128",
   "metadata": {},
   "outputs": [],
   "source": [
    "import pandas as pd\n",
    "import matplotlib.pyplot as plt"
   ]
  },
  {
   "cell_type": "code",
   "execution_count": null,
   "id": "868f3152-1842-450d-8681-e07edae8e277",
   "metadata": {},
   "outputs": [],
   "source": []
  },
  {
   "cell_type": "code",
   "execution_count": 4,
   "id": "f449013d-ffc8-4708-abe4-ff154c63e9a4",
   "metadata": {},
   "outputs": [
    {
     "name": "stdout",
     "output_type": "stream",
     "text": [
      "Unexpected number of files in C:\\Users\\Mandal Gang\\Downloads\\3D_skeleton_and_Foot_pressure\\GIST pathological gait dataset\\subject1\\antalgic\\trial1: []\n",
      "Data organization and renaming have been successfully completed.\n"
     ]
    }
   ],
   "source": [
    "import os\n",
    "import shutil\n",
    "\n",
    "# Define the root folder path where your data is located\n",
    "root_folder = r\"C:\\Users\\Mandal Gang\\Downloads\\3D_skeleton_and_Foot_pressure\\GIST pathological gait dataset\"\n",
    "\n",
    "# Define the destination folders\n",
    "pressure_folder = os.path.join(root_folder, \"Pressure_Data\")\n",
    "skeleton_folder = os.path.join(root_folder, \"Skeleton_Data\")\n",
    "\n",
    "# Create the destination folders if they don't exist\n",
    "os.makedirs(pressure_folder, exist_ok=True)\n",
    "os.makedirs(skeleton_folder, exist_ok=True)\n",
    "\n",
    "# Traverse through the root folder, subject folders, and gait folders\n",
    "for subject in os.listdir(root_folder):\n",
    "    subject_path = os.path.join(root_folder, subject)\n",
    "    if os.path.isdir(subject_path):  # Check if it's a directory\n",
    "        for gait in os.listdir(subject_path):\n",
    "            gait_path = os.path.join(subject_path, gait)\n",
    "            if os.path.isdir(gait_path):\n",
    "                for trial in os.listdir(gait_path):\n",
    "                    trial_path = os.path.join(gait_path, trial)\n",
    "                    if os.path.isdir(trial_path):\n",
    "                        # Retrieve all files in each trial folder\n",
    "                        trial_files = os.listdir(trial_path)\n",
    "                        # Expecting exactly two files per trial: one for pressure, one for skeleton\n",
    "                        if len(trial_files) == 2:\n",
    "                            # Construct unique file names using subject, gait, and trial info\n",
    "                            pressure_file_name = f\"{subject}_{gait}_{trial}_pressure.csv\"\n",
    "                            skeleton_file_name = f\"{subject}_{gait}_{trial}_skeleton.csv\"\n",
    "\n",
    "                            # Copy and rename the files to prevent overwriting\n",
    "                            shutil.copy(os.path.join(trial_path, trial_files[0]), os.path.join(pressure_folder, pressure_file_name))\n",
    "                            shutil.copy(os.path.join(trial_path, trial_files[1]), os.path.join(skeleton_folder, skeleton_file_name))\n",
    "                        else:\n",
    "                            print(f\"Unexpected number of files in {trial_path}: {trial_files}\")\n",
    "\n",
    "print(\"Data organization and renaming have been successfully completed.\")\n"
   ]
  },
  {
   "cell_type": "code",
   "execution_count": null,
   "id": "f204fd56-3399-4bd3-8552-b372f5fbf266",
   "metadata": {},
   "outputs": [],
   "source": []
  },
  {
   "cell_type": "code",
   "execution_count": null,
   "id": "1061df65-8c25-45ad-88ce-6da53bef41cb",
   "metadata": {},
   "outputs": [],
   "source": []
  }
 ],
 "metadata": {
  "kernelspec": {
   "display_name": "Python 3 (ipykernel)",
   "language": "python",
   "name": "python3"
  },
  "language_info": {
   "codemirror_mode": {
    "name": "ipython",
    "version": 3
   },
   "file_extension": ".py",
   "mimetype": "text/x-python",
   "name": "python",
   "nbconvert_exporter": "python",
   "pygments_lexer": "ipython3",
   "version": "3.12.5"
  }
 },
 "nbformat": 4,
 "nbformat_minor": 5
}
